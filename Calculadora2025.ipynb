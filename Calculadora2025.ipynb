{
  "nbformat": 4,
  "nbformat_minor": 0,
  "metadata": {
    "colab": {
      "provenance": []
    },
    "kernelspec": {
      "name": "python3",
      "display_name": "Python 3"
    },
    "language_info": {
      "name": "python"
    }
  },
  "cells": [
    {
      "cell_type": "code",
      "execution_count": null,
      "metadata": {
        "id": "z61IRQ2q7xHe"
      },
      "outputs": [],
      "source": [
        "import numpy as np\n",
        "import matplotlib.pyplot as plt\n",
        "\n",
        "# Parámetros de la portadora\n",
        "frecuencia_portadora = 80  # Hz\n",
        "amplitud_portadora = 1  # Amplitud\n",
        "t = np.linspace(0, 3, 3000)  # Tiempo de simulación: 3 segundos, 1000 muestras por segundo\n",
        "\n",
        "# Señal portadora\n",
        "portadora = amplitud_portadora * np.cos(2 * np.pi * frecuencia_portadora * t)\n",
        "\n",
        "# Graficar la señal portadora\n",
        "plt.figure(figsize=(10, 4))\n",
        "plt.plot(t, portadora, label='Señal Portadora', color='b')\n",
        "plt.title('Señal Portadora')\n",
        "plt.xlabel('Tiempo [s]')\n",
        "plt.ylabel('Amplitud')\n",
        "plt.legend()\n",
        "plt.grid(True)\n",
        "plt.show()\n"
      ]
    }
  ]
}